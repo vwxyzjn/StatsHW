{
 "cells": [
  {
   "cell_type": "markdown",
   "metadata": {},
   "source": [
    "## Input the data\n",
    "\n",
    "First, let's input the data into a observed table:"
   ]
  },
  {
   "cell_type": "code",
   "execution_count": 12,
   "metadata": {},
   "outputs": [
    {
     "data": {
      "text/html": [
       "<div>\n",
       "<style>\n",
       "    .dataframe thead tr:only-child th {\n",
       "        text-align: right;\n",
       "    }\n",
       "\n",
       "    .dataframe thead th {\n",
       "        text-align: left;\n",
       "    }\n",
       "\n",
       "    .dataframe tbody tr th {\n",
       "        vertical-align: top;\n",
       "    }\n",
       "</style>\n",
       "<table border=\"1\" class=\"dataframe\">\n",
       "  <thead>\n",
       "    <tr style=\"text-align: right;\">\n",
       "      <th></th>\n",
       "      <th>0</th>\n",
       "      <th>1</th>\n",
       "      <th>2</th>\n",
       "    </tr>\n",
       "  </thead>\n",
       "  <tbody>\n",
       "    <tr>\n",
       "      <th>0</th>\n",
       "      <td>42</td>\n",
       "      <td>309</td>\n",
       "      <td>31</td>\n",
       "    </tr>\n",
       "    <tr>\n",
       "      <th>1</th>\n",
       "      <td>64</td>\n",
       "      <td>246</td>\n",
       "      <td>46</td>\n",
       "    </tr>\n",
       "    <tr>\n",
       "      <th>2</th>\n",
       "      <td>20</td>\n",
       "      <td>115</td>\n",
       "      <td>27</td>\n",
       "    </tr>\n",
       "  </tbody>\n",
       "</table>\n",
       "</div>"
      ],
      "text/plain": [
       "    0    1   2\n",
       "0  42  309  31\n",
       "1  64  246  46\n",
       "2  20  115  27"
      ]
     },
     "execution_count": 12,
     "metadata": {},
     "output_type": "execute_result"
    }
   ],
   "source": [
    "import pandas as pd\n",
    "\n",
    "obs = pd.DataFrame(\n",
    "    index=[0, 1, 2],\n",
    "    data={\n",
    "        0: [42, 64, 20],\n",
    "        1: [309, 246, 115],\n",
    "        2: [31, 46, 27]\n",
    "    }\n",
    ")\n",
    "obs\n",
    "\n",
    "# Row 0 = Democrat\n",
    "# Row 1 = Republican\n",
    "# Row 3 = Other\n",
    "\n",
    "# Col 1 = We Know All Relevant Facts\n",
    "# Col 2 = Some Relevant Facts Withheld\n",
    "# Col 3 = Not sure"
   ]
  },
  {
   "cell_type": "markdown",
   "metadata": {},
   "source": [
    "Let $X$ denote the partisanship of a given registered voter and $Y$ denote the opinion (s)he may have on the issue of Kennedy's assassination. We want to test the hypothesis\n",
    "\n",
    "\\begin{align*}\n",
    "   H_0:& X \\text{ is independent from } Y \\\\\n",
    "   H_1:& X \\text{ is not independent from } Y\n",
    "\\end{align*}\n",
    "\n",
    "Let $n_{ij}$ to denote observed at $i$-th row and $j$-th column. Then we build the probability table where the MLE is used to estimate each $p_{ij} = \\frac{n_{i+}n_{j+}}{n^2}$:"
   ]
  },
  {
   "cell_type": "code",
   "execution_count": 19,
   "metadata": {},
   "outputs": [
    {
     "data": {
      "text/html": [
       "<div>\n",
       "<style>\n",
       "    .dataframe thead tr:only-child th {\n",
       "        text-align: right;\n",
       "    }\n",
       "\n",
       "    .dataframe thead th {\n",
       "        text-align: left;\n",
       "    }\n",
       "\n",
       "    .dataframe tbody tr th {\n",
       "        vertical-align: top;\n",
       "    }\n",
       "</style>\n",
       "<table border=\"1\" class=\"dataframe\">\n",
       "  <thead>\n",
       "    <tr style=\"text-align: right;\">\n",
       "      <th></th>\n",
       "      <th>0</th>\n",
       "      <th>1</th>\n",
       "      <th>2</th>\n",
       "    </tr>\n",
       "  </thead>\n",
       "  <tbody>\n",
       "    <tr>\n",
       "      <th>0</th>\n",
       "      <td>0.0594222</td>\n",
       "      <td>0.315975</td>\n",
       "      <td>0.0490469</td>\n",
       "    </tr>\n",
       "    <tr>\n",
       "      <th>1</th>\n",
       "      <td>0.0553778</td>\n",
       "      <td>0.294469</td>\n",
       "      <td>0.0457086</td>\n",
       "    </tr>\n",
       "    <tr>\n",
       "      <th>2</th>\n",
       "      <td>0.0252</td>\n",
       "      <td>0.134</td>\n",
       "      <td>0.0208</td>\n",
       "    </tr>\n",
       "  </tbody>\n",
       "</table>\n",
       "</div>"
      ],
      "text/plain": [
       "           0         1          2\n",
       "0  0.0594222  0.315975  0.0490469\n",
       "1  0.0553778  0.294469  0.0457086\n",
       "2     0.0252     0.134     0.0208"
      ]
     },
     "execution_count": 19,
     "metadata": {},
     "output_type": "execute_result"
    }
   ],
   "source": [
    "prob = pd.DataFrame(index=[0,1,2], columns=[0,1,2])\n",
    "\n",
    "for i, row in obs.iterrows():\n",
    "    for j, column in obs.iteritems():\n",
    "        prob.iloc[i,j] = row.sum() * column.sum() / 900 ** 2\n",
    "\n",
    "prob"
   ]
  },
  {
   "cell_type": "markdown",
   "metadata": {},
   "source": [
    "Now we are ready to build the expectancy table where each $e_{ij} = np_{ij}$"
   ]
  },
  {
   "cell_type": "code",
   "execution_count": 23,
   "metadata": {},
   "outputs": [
    {
     "data": {
      "text/html": [
       "<div>\n",
       "<style>\n",
       "    .dataframe thead tr:only-child th {\n",
       "        text-align: right;\n",
       "    }\n",
       "\n",
       "    .dataframe thead th {\n",
       "        text-align: left;\n",
       "    }\n",
       "\n",
       "    .dataframe tbody tr th {\n",
       "        vertical-align: top;\n",
       "    }\n",
       "</style>\n",
       "<table border=\"1\" class=\"dataframe\">\n",
       "  <thead>\n",
       "    <tr style=\"text-align: right;\">\n",
       "      <th></th>\n",
       "      <th>0</th>\n",
       "      <th>1</th>\n",
       "      <th>2</th>\n",
       "    </tr>\n",
       "  </thead>\n",
       "  <tbody>\n",
       "    <tr>\n",
       "      <th>0</th>\n",
       "      <td>53.48</td>\n",
       "      <td>284.378</td>\n",
       "      <td>44.1422</td>\n",
       "    </tr>\n",
       "    <tr>\n",
       "      <th>1</th>\n",
       "      <td>49.84</td>\n",
       "      <td>265.022</td>\n",
       "      <td>41.1378</td>\n",
       "    </tr>\n",
       "    <tr>\n",
       "      <th>2</th>\n",
       "      <td>22.68</td>\n",
       "      <td>120.6</td>\n",
       "      <td>18.72</td>\n",
       "    </tr>\n",
       "  </tbody>\n",
       "</table>\n",
       "</div>"
      ],
      "text/plain": [
       "       0        1        2\n",
       "0  53.48  284.378  44.1422\n",
       "1  49.84  265.022  41.1378\n",
       "2  22.68    120.6    18.72"
      ]
     },
     "execution_count": 23,
     "metadata": {},
     "output_type": "execute_result"
    }
   ],
   "source": [
    "exp = pd.DataFrame(index=[0,1,2], columns=[0,1,2])\n",
    "\n",
    "for i, row in obs.iterrows():\n",
    "    for j, column in obs.iteritems():\n",
    "        exp.iloc[i,j] = row.sum() * column.sum() / 900\n",
    "\n",
    "exp"
   ]
  },
  {
   "cell_type": "markdown",
   "metadata": {},
   "source": [
    "Finally, by Theorem 10.5.1, we use calculate\n",
    "\n",
    "$$ d_2 = \\sum_{i=1}^{r} \\sum_{j=1}^{c} \\frac{(n_{ij} - e_{ij})^2}{e_{ij}} \\sim X^{2}_{(r-1)(c-1)} = X^{2}_{4}$$\n"
   ]
  },
  {
   "cell_type": "code",
   "execution_count": 21,
   "metadata": {},
   "outputs": [
    {
     "data": {
      "text/plain": [
       "18.710948240704745"
      ]
     },
     "execution_count": 21,
     "metadata": {},
     "output_type": "execute_result"
    }
   ],
   "source": [
    "d2 = 0 \n",
    "\n",
    "for i, row in obs.iterrows():\n",
    "    for j, column in obs.iteritems():\n",
    "        d2 += (obs.iloc[i,j] - exp.iloc[i,j]) ** 2 / exp.iloc[i,j]\n",
    "        \n",
    "d2"
   ]
  },
  {
   "cell_type": "markdown",
   "metadata": {},
   "source": [
    "Since $d_2 = 18.71 \\geq 9.48 = X^{2}_{0.95,4}$, we reject the null hypothesis that $X$ and $Y$ are independent."
   ]
  }
 ],
 "metadata": {
  "kernelspec": {
   "display_name": "Python 3",
   "language": "python",
   "name": "python3"
  },
  "language_info": {
   "codemirror_mode": {
    "name": "ipython",
    "version": 3
   },
   "file_extension": ".py",
   "mimetype": "text/x-python",
   "name": "python",
   "nbconvert_exporter": "python",
   "pygments_lexer": "ipython3",
   "version": "3.6.0"
  }
 },
 "nbformat": 4,
 "nbformat_minor": 2
}
