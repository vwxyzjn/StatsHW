{
 "cells": [
  {
   "cell_type": "markdown",
   "metadata": {},
   "source": [
    "## Problem\n",
    "\n",
    "Construct a power curve for the $\\alpha = 0.05$ test of $H_0: \\mu = 60$ vs $H_1: \\mu \\neq 60$ if the data consist of a random sample of size $16$ from a normal distribution having $\\sigma = 4$\n",
    "\n",
    "## Solution\n",
    "\n",
    "First, we have to figure out the critical values:\n",
    "\n",
    "\\begin{align*}\n",
    "   P(~\\text{reject $H_0$ | $H_0$ is true}) &= \\alpha = 0.05 \\\\\n",
    "   & = 2P(\\bar{Y} \\geq \\bar{y}_{u}^* ~|~ \\mu = 60) \\\\\n",
    "   & = 2P(Z \\geq \\frac{\\bar{y}_{u}^* -60}{ 4 / \\sqrt{16}})\n",
    "\\end{align*}\n",
    "\n",
    "which means\n",
    "\n",
    "$$\\frac{\\bar{y}_{u}^* -60}{ 4 / \\sqrt{16}} = 1.96 \\quad  \\bar{y}_{u}^* = 61.96$$\n",
    "\n",
    "Similarly, we could get $\\bar{y}_{l}^* = 58.04$. Now, Suppose the true mean is $x$, then the power of the test is defined as \n",
    "\n",
    "\\begin{align*}\n",
    "   1- \\beta &=  P(~\\text{reject $H_0$ | $H_0$ is false})\\\\\n",
    "   & = P(~\\text{reject $H_0$ | $\\mu = x$ }) \\\\\n",
    "   & = P(\\bar{Y} \\geq 61.96~ ~|~ \\mu = x) + P(\\bar{Y} \\leq 58.04 ~|~ \\mu = x) \\\\\n",
    "   & = P(Z \\geq \\frac{61.96 -60}{ 4 / \\sqrt{16}}) + P(Z \\leq \\frac{58.04 -60}{ 4 / \\sqrt{16}})\n",
    "\\end{align*}\n",
    "\n",
    "Now we can express this equation in Python, so that we may plot the power curve"
   ]
  },
  {
   "cell_type": "raw",
   "metadata": {},
   "source": [
    "%%latex\n",
    "\\newpage"
   ]
  },
  {
   "cell_type": "code",
   "execution_count": 11,
   "metadata": {},
   "outputs": [
    {
     "data": {
      "text/plain": [
       "[<matplotlib.lines.Line2D at 0x2544f93fa58>]"
      ]
     },
     "execution_count": 11,
     "metadata": {},
     "output_type": "execute_result"
    },
    {
     "data": {
      "image/png": "[encoded data removed]",
      "text/plain": [
       "<matplotlib.figure.Figure at 0x2544c9ff4a8>"
      ]
     },
     "metadata": {},
     "output_type": "display_data"
    }
   ],
   "source": [
    "import numpy as np\n",
    "import math\n",
    "import scipy.stats\n",
    "import matplotlib.pyplot as plt\n",
    "%matplotlib inline\n",
    "\n",
    "def power_curve(x: float, x_upper: float, x_lower: float, sigma: float, n: int):\n",
    "    \"\"\"\n",
    "    x is the true $\\mu$\n",
    "    \"\"\"\n",
    "    left_z_score = (x_lower - x) / (sigma / math.sqrt(n))\n",
    "    right_z_core = (x_upper - x) / (sigma / math.sqrt(n))\n",
    "    normal = scipy.stats.norm(0, 1)\n",
    "    \n",
    "    return normal.cdf(left_z_score) + normal.cdf(-right_z_core)\n",
    "\n",
    "x = np.arange(53, 67, 0.05) # x range from 56 to 62, with step of 0.05\n",
    "y = [power_curve(item, 61.96, 58.04, 4, 16) for item in x]\n",
    "\n",
    "plt.plot(x, y) "
   ]
  }
 ],
 "metadata": {
  "kernelspec": {
   "display_name": "Python 3",
   "language": "python",
   "name": "python3"
  },
  "language_info": {
   "codemirror_mode": {
    "name": "ipython",
    "version": 3
   },
   "file_extension": ".py",
   "mimetype": "text/x-python",
   "name": "python",
   "nbconvert_exporter": "python",
   "pygments_lexer": "ipython3",
   "version": "3.6.1"
  }
 },
 "nbformat": 4,
 "nbformat_minor": 2
}
