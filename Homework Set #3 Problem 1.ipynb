{
 "cells": [
  {
   "cell_type": "markdown",
   "metadata": {},
   "source": [
    "## Find the classes\n",
    "\n",
    "First, we set up the hypothesis test. Let\n",
    "\n",
    "\\begin{align*}\n",
    "   H_0:& f_X(x) = f_o(x) \\\\\n",
    "   H_1:& f_X(x) \\neq f_o(x)\n",
    "\\end{align*}\n",
    "\n",
    "where $X \\sim N(157, 13.7^2)$ denotes the total cholesterol values for individuals. Then, we know\n",
    "\n",
    "$$\\frac{X - 157}{31.7} \\sim Z $$\n",
    "\n",
    "where $Z$ is the standard normal variable. To figure out the first class, we essentially need to find a z-score $z_1$ such that \n",
    "\n",
    "$$ P(Z \\leq z_1) = 1/6$$\n",
    "\n",
    "We could just observe the table and eyeball the value, but Python provides a function to approximate it:"
   ]
  },
  {
   "cell_type": "code",
   "execution_count": 4,
   "metadata": {},
   "outputs": [
    {
     "data": {
      "text/plain": [
       "-0.96742156610170105"
      ]
     },
     "execution_count": 4,
     "metadata": {},
     "output_type": "execute_result"
    }
   ],
   "source": [
    "from scipy.stats import norm\n",
    "\n",
    "norm.ppf(1/6)"
   ]
  },
  {
   "cell_type": "markdown",
   "metadata": {},
   "source": [
    "This means that \n",
    "\n",
    "$$P(\\frac{X - 157}{31.7} = Z \\leq -0.967) = 1/6$$\n",
    "\n",
    "Then, we could find the threshold of the first class. Namely, the lower threshold should be $-\\infty$ and the upper threshold should be $ (-0.9674)(31.7) + 157 = 126.33$. Similarly, we could find the threshold for other classes."
   ]
  },
  {
   "cell_type": "code",
   "execution_count": 5,
   "metadata": {},
   "outputs": [
    {
     "name": "stdout",
     "output_type": "stream",
     "text": [
      "[-inf, 126.33273635457607, 143.34594461233399, 157.0, 170.65405538766601, 187.66726364542393, inf]\n"
     ]
    }
   ],
   "source": [
    "thresholds = [\n",
    "    norm.ppf(0, loc=157, scale=31.7),\n",
    "    norm.ppf(1/6, loc=157, scale=31.7),\n",
    "    norm.ppf(2/6, loc=157, scale=31.7),\n",
    "    norm.ppf(3/6, loc=157, scale=31.7),\n",
    "    norm.ppf(4/6, loc=157, scale=31.7),\n",
    "    norm.ppf(5/6, loc=157, scale=31.7),\n",
    "    norm.ppf(6/6, loc=157, scale=31.7),\n",
    "]\n",
    "\n",
    "print(thresholds)"
   ]
  },
  {
   "cell_type": "markdown",
   "metadata": {},
   "source": [
    "Therefore, the classes should be \n",
    "\n",
    "\n",
    "\\begin{align*}\n",
    "   &r_1 = (-\\infty, 126.33] && r_2 = (126.33, 143.34]  \\\\\n",
    "   &r_3 = (143.34, 157.0] && r_4 = (157.0, 170.65] \\\\\n",
    "   &r_5 = (170.65, 187.66] && r_6 = (187.66, \\infty)\n",
    "\\end{align*}\n"
   ]
  },
  {
   "cell_type": "markdown",
   "metadata": {},
   "source": [
    "## Build a table"
   ]
  },
  {
   "cell_type": "code",
   "execution_count": 6,
   "metadata": {},
   "outputs": [
    {
     "data": {
      "text/plain": [
       "array([ 6, 13,  8,  5,  7,  9], dtype=int64)"
      ]
     },
     "execution_count": 6,
     "metadata": {},
     "output_type": "execute_result"
    }
   ],
   "source": [
    "# Find the observed frequency\n",
    "import numpy\n",
    "\n",
    "data = [\n",
    "    95, 129, 136, 143, 152, 165, 175, 197,\n",
    "    108, 129, 139, 144, 152, 166, 180, 204,\n",
    "    108, 131, 140, 144, 155, 171, 181, 220,\n",
    "    114, 131, 142, 145, 158, 172, 189, 223,\n",
    "    115, 135, 142, 146, 158, 173, 192, 226,\n",
    "    124, 136, 143, 148, 162, 174, 194, 230\n",
    "]\n",
    "\n",
    "counts, bins = numpy.histogram(data, bins=thresholds)\n",
    "counts"
   ]
  },
  {
   "cell_type": "code",
   "execution_count": 7,
   "metadata": {},
   "outputs": [
    {
     "data": {
      "text/html": [
       "<div>\n",
       "<style>\n",
       "    .dataframe thead tr:only-child th {\n",
       "        text-align: right;\n",
       "    }\n",
       "\n",
       "    .dataframe thead th {\n",
       "        text-align: left;\n",
       "    }\n",
       "\n",
       "    .dataframe tbody tr th {\n",
       "        vertical-align: top;\n",
       "    }\n",
       "</style>\n",
       "<table border=\"1\" class=\"dataframe\">\n",
       "  <thead>\n",
       "    <tr style=\"text-align: right;\">\n",
       "      <th></th>\n",
       "      <th>Obs.Freq.</th>\n",
       "      <th>Prob.</th>\n",
       "      <th>Exp.Freq.</th>\n",
       "    </tr>\n",
       "  </thead>\n",
       "  <tbody>\n",
       "    <tr>\n",
       "      <th>r1</th>\n",
       "      <td>6</td>\n",
       "      <td>0.166667</td>\n",
       "      <td>8.0</td>\n",
       "    </tr>\n",
       "    <tr>\n",
       "      <th>r2</th>\n",
       "      <td>13</td>\n",
       "      <td>0.166667</td>\n",
       "      <td>8.0</td>\n",
       "    </tr>\n",
       "    <tr>\n",
       "      <th>r3</th>\n",
       "      <td>8</td>\n",
       "      <td>0.166667</td>\n",
       "      <td>8.0</td>\n",
       "    </tr>\n",
       "    <tr>\n",
       "      <th>r4</th>\n",
       "      <td>5</td>\n",
       "      <td>0.166667</td>\n",
       "      <td>8.0</td>\n",
       "    </tr>\n",
       "    <tr>\n",
       "      <th>r5</th>\n",
       "      <td>7</td>\n",
       "      <td>0.166667</td>\n",
       "      <td>8.0</td>\n",
       "    </tr>\n",
       "    <tr>\n",
       "      <th>r6</th>\n",
       "      <td>9</td>\n",
       "      <td>0.166667</td>\n",
       "      <td>8.0</td>\n",
       "    </tr>\n",
       "  </tbody>\n",
       "</table>\n",
       "</div>"
      ],
      "text/plain": [
       "    Obs.Freq.     Prob.  Exp.Freq.\n",
       "r1          6  0.166667        8.0\n",
       "r2         13  0.166667        8.0\n",
       "r3          8  0.166667        8.0\n",
       "r4          5  0.166667        8.0\n",
       "r5          7  0.166667        8.0\n",
       "r6          9  0.166667        8.0"
      ]
     },
     "execution_count": 7,
     "metadata": {},
     "output_type": "execute_result"
    }
   ],
   "source": [
    "# Build a table\n",
    "import pandas as pd\n",
    "\n",
    "df = pd.DataFrame(\n",
    "    index = ['r1', 'r2', 'r3', 'r4', 'r5', 'r6'],\n",
    "    data={\n",
    "        'Obs.Freq.': counts,\n",
    "        'Prob.': [1/6] * 6,\n",
    "        'Exp.Freq.': [1/6*48] * 6\n",
    "    }\n",
    ")\n",
    "df[['Obs.Freq.', 'Prob.', 'Exp.Freq.']]"
   ]
  },
  {
   "cell_type": "markdown",
   "metadata": {},
   "source": [
    "## Calculate the test statistic\n",
    "\n",
    "The test statistic is \n",
    "\n",
    "$$ D = \\sum_{i=1}^{6} = \\frac{(X_i - np_i)^2}{np_i} \\sim X^{2}_{6-1} $$\n",
    "\n",
    "Now calculate it:"
   ]
  },
  {
   "cell_type": "code",
   "execution_count": 8,
   "metadata": {},
   "outputs": [
    {
     "data": {
      "text/plain": [
       "5.0"
      ]
     },
     "execution_count": 8,
     "metadata": {},
     "output_type": "execute_result"
    }
   ],
   "source": [
    "d = 0\n",
    "\n",
    "for index, row in df.iterrows():\n",
    "    d += ((row['Obs.Freq.'] - row['Exp.Freq.']) ** 2) / row['Exp.Freq.']\n",
    "    \n",
    "d"
   ]
  },
  {
   "cell_type": "markdown",
   "metadata": {},
   "source": [
    "Suppose the level of significance $\\alpha = 0.05$, then since\n",
    "\n",
    "$$ X^{2}_{0.90,5} = 9.236 \\geq 5 = d $$\n",
    "\n",
    "We don't have enough evidence to reject the null hypothesis. Given the histagram of the data, we find this conclusion to be reasonable."
   ]
  },
  {
   "cell_type": "code",
   "execution_count": 9,
   "metadata": {},
   "outputs": [
    {
     "data": {
      "image/png": "[encoded data removed]",
      "text/plain": [
       "<matplotlib.figure.Figure at 0x249d72c86d8>"
      ]
     },
     "metadata": {},
     "output_type": "display_data"
    }
   ],
   "source": [
    "import matplotlib.pyplot as plt\n",
    "%matplotlib inline\n",
    "\n",
    "counts, bins, graph = plt.hist(data, bins=48)"
   ]
  }
 ],
 "metadata": {
  "kernelspec": {
   "display_name": "Python 3",
   "language": "python",
   "name": "python3"
  },
  "language_info": {
   "codemirror_mode": {
    "name": "ipython",
    "version": 3
   },
   "file_extension": ".py",
   "mimetype": "text/x-python",
   "name": "python",
   "nbconvert_exporter": "python",
   "pygments_lexer": "ipython3",
   "version": "3.6.0"
  }
 },
 "nbformat": 4,
 "nbformat_minor": 2
}
